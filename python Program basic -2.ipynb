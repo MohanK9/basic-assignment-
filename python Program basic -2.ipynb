{
 "cells": [
  {
   "cell_type": "code",
   "execution_count": 4,
   "metadata": {},
   "outputs": [
    {
     "name": "stdout",
     "output_type": "stream",
     "text": [
      "enter kilometers 12.5\n",
      "is equal to miles  7.7671375000000005\n"
     ]
    }
   ],
   "source": [
    "#1. Write a Python program to convert kilometers to miles?\n",
    "a = float(input(\"enter kilometers \" ))\n",
    "miles = a*0.621371\n",
    "print(\"is equal to miles \", miles)"
   ]
  },
  {
   "cell_type": "code",
   "execution_count": 5,
   "metadata": {},
   "outputs": [
    {
     "name": "stdout",
     "output_type": "stream",
     "text": [
      "enter celsius 10\n",
      "converted value fahrenheit  50.0\n"
     ]
    }
   ],
   "source": [
    "#2. Write a Python program to convert Celsius to Fahrenheit?\n",
    "celsius=float(input(\"enter celsius \"))\n",
    "fahrenheit =(celsius * 1.8) + 32\n",
    "print(\"converted value fahrenheit \",fahrenheit)"
   ]
  },
  {
   "cell_type": "code",
   "execution_count": 1,
   "metadata": {},
   "outputs": [
    {
     "name": "stdout",
     "output_type": "stream",
     "text": [
      "enter year 2020\n",
      "enter month 4\n",
      "     April 2020\n",
      "Mo Tu We Th Fr Sa Su\n",
      "       1  2  3  4  5\n",
      " 6  7  8  9 10 11 12\n",
      "13 14 15 16 17 18 19\n",
      "20 21 22 23 24 25 26\n",
      "27 28 29 30\n",
      "\n"
     ]
    }
   ],
   "source": [
    "#3. Write a Python program to display calendar?\n",
    "import calendar\n",
    "year= int(input(\"enter year \"))\n",
    "months=int(input(\"enter month \"))\n",
    "print(calendar.month(year,months))"
   ]
  },
  {
   "cell_type": "code",
   "execution_count": 9,
   "metadata": {},
   "outputs": [
    {
     "name": "stdout",
     "output_type": "stream",
     "text": [
      "enter a value 2.2\n",
      "enter b value 2.2\n",
      "enter c value 2.2\n",
      "solved quadratic equations  (-2.42+4.191562954316684j) (-2.420000000000001-4.191562954316684j)\n"
     ]
    }
   ],
   "source": [
    "#4. Write a Python program to solve quadratic equation?\n",
    "\n",
    "a=float(input(\"enter a value \"))\n",
    "b=float(input('enter b value '))\n",
    "c=float(input(\"enter c value \"))\n",
    "q1=(-b + (b ** 2 - 4 * a * c) ** 0.5) / 2 * a\n",
    "q2=(-b - (b ** 2 - 4 * a * c) ** 0.5) / 2 * a\n",
    "\n",
    "print(\"solved quadratic equations \",q1,q2)\n"
   ]
  },
  {
   "cell_type": "code",
   "execution_count": 10,
   "metadata": {},
   "outputs": [
    {
     "name": "stdout",
     "output_type": "stream",
     "text": [
      "2 1\n"
     ]
    }
   ],
   "source": [
    "#5. Write a Python program to swap two variables without temp variable?\n",
    "a = 1\n",
    "b = 2\n",
    "#swapping values \n",
    "a,b = b,a\n",
    "print(a,b)"
   ]
  },
  {
   "cell_type": "code",
   "execution_count": null,
   "metadata": {},
   "outputs": [],
   "source": []
  }
 ],
 "metadata": {
  "kernelspec": {
   "display_name": "Python 3",
   "language": "python",
   "name": "python3"
  },
  "language_info": {
   "codemirror_mode": {
    "name": "ipython",
    "version": 3
   },
   "file_extension": ".py",
   "mimetype": "text/x-python",
   "name": "python",
   "nbconvert_exporter": "python",
   "pygments_lexer": "ipython3",
   "version": "3.8.5"
  }
 },
 "nbformat": 4,
 "nbformat_minor": 4
}
