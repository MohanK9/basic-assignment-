{
 "cells": [
  {
   "cell_type": "code",
   "execution_count": null,
   "metadata": {},
   "outputs": [],
   "source": [
    "the two values are True and False \n",
    "bool()"
   ]
  },
  {
   "cell_type": "code",
   "execution_count": null,
   "metadata": {},
   "outputs": [],
   "source": [
    "NOT,AND, OR are three different types of boolean operators"
   ]
  },
  {
   "cell_type": "code",
   "execution_count": null,
   "metadata": {},
   "outputs": [],
   "source": [
    " AND        NOT      NOR\n",
    "0 0 0       1 0     0 0 0\n",
    "0 1 0       0 1     0 1 1\n",
    "1 0 0               1 0 1\n",
    "1 1 1               1 1 1"
   ]
  },
  {
   "cell_type": "code",
   "execution_count": 9,
   "metadata": {},
   "outputs": [],
   "source": [
    "(5 > 4) and (3 == 5)                ---False\n",
    "not(5>4)                            ---False\n",
    "(5 > 4) or (3 == 5)                 ---True\n",
    "not ((5 > 4) or (3 == 5))           ---False\n",
    "(True and True) and (True == False) ---False\n",
    "(not False) or (not True)           ---False"
   ]
  },
  {
   "cell_type": "code",
   "execution_count": null,
   "metadata": {},
   "outputs": [],
   "source": [
    "== ; != ; >=; <= ;<;>"
   ]
  },
  {
   "cell_type": "code",
   "execution_count": null,
   "metadata": {},
   "outputs": [],
   "source": [
    "equal to is ==\n",
    "assigned operator is =\n",
    "a = 10 # where 10 is assigned to variable a\n",
    "a == 10 # here it checks whether the value of a is equal to 10 or not"
   ]
  },
  {
   "cell_type": "code",
   "execution_count": null,
   "metadata": {},
   "outputs": [],
   "source": [
    "spam = 0\n",
    "# block 1\n",
    "if spam == 10:\n",
    "print('eggs')\n",
    "#block 2\n",
    "if spam > 5:\n",
    "print('bacon')\n",
    "#block 3\n",
    "else:\n",
    "print('ham')\n"
   ]
  },
  {
   "cell_type": "code",
   "execution_count": null,
   "metadata": {},
   "outputs": [],
   "source": [
    "if spam == 1:\n",
    "    print('hello')\n",
    "elif spam == 2:\n",
    "    print('howdy')\n",
    "else :\n",
    "    print('Greetings!')\n",
    "    "
   ]
  },
  {
   "cell_type": "code",
   "execution_count": null,
   "metadata": {},
   "outputs": [],
   "source": [
    "press CTRL + C from command line"
   ]
  },
  {
   "cell_type": "code",
   "execution_count": null,
   "metadata": {},
   "outputs": [],
   "source": [
    "break is used to terminate the loop \n",
    "while continue is used to skip the next line of code"
   ]
  },
  {
   "cell_type": "code",
   "execution_count": null,
   "metadata": {},
   "outputs": [],
   "source": [
    "range(10), range(0,10),range(0,10,1) all does the same in for loop which ranges from 0 to 9\n",
    "range (0,10,1) here the index value will get increment of value +1\n",
    "and range (0,10) by default the increment is +1"
   ]
  },
  {
   "cell_type": "code",
   "execution_count": 19,
   "metadata": {},
   "outputs": [],
   "source": [
    "for i in range(1,11):\n",
    "    print(i)"
   ]
  },
  {
   "cell_type": "code",
   "execution_count": null,
   "metadata": {},
   "outputs": [],
   "source": [
    "i =1\n",
    "while i < 11:\n",
    "    print(i)\n",
    "    i = i+1\n",
    "   "
   ]
  },
  {
   "cell_type": "markdown",
   "metadata": {},
   "source": [
    "spam.bacon()"
   ]
  },
  {
   "cell_type": "code",
   "execution_count": null,
   "metadata": {},
   "outputs": [],
   "source": []
  }
 ],
 "metadata": {
  "kernelspec": {
   "display_name": "Python 3",
   "language": "python",
   "name": "python3"
  },
  "language_info": {
   "codemirror_mode": {
    "name": "ipython",
    "version": 3
   },
   "file_extension": ".py",
   "mimetype": "text/x-python",
   "name": "python",
   "nbconvert_exporter": "python",
   "pygments_lexer": "ipython3",
   "version": "3.8.5"
  }
 },
 "nbformat": 4,
 "nbformat_minor": 4
}
