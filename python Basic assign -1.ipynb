{
 "cells": [
  {
   "cell_type": "markdown",
   "metadata": {},
   "source": [
    " 1.In the below elements which of them are values or an expression?\n",
    " eg:- values can be integer or string and expressions will be mathematical operators.\n",
    " \n",
    "Answer: integer or string and expressions will be mathematical operators.\n",
    "values     : 'hello' ,-87.9 ,6\n",
    "expressions: *, -, / , +"
   ]
  },
  {
   "cell_type": "code",
   "execution_count": null,
   "metadata": {},
   "outputs": [],
   "source": [
    "2. What is the difference between string and variable?\n",
    "\n",
    "Answer: string   :it is the series of characters written in single or double quotes\n",
    "variable :is used to store some value in memory which is assigned     "
   ]
  },
  {
   "cell_type": "code",
   "execution_count": null,
   "metadata": {},
   "outputs": [],
   "source": [
    "3. Describe three different data types.\n",
    "\n",
    "Answer: 3 datatypes are numeric,string,boolean\n",
    "numeric  :it can be any of these three types int, float, complex i.e., 10, 10.1,10+10.1j\n",
    "string   :it is a sequence of characters which are in quotes double or single\n",
    "boolean  :it has two in built values either True or False it will state the given statement\n",
    "    is whether True or False"
   ]
  },
  {
   "cell_type": "code",
   "execution_count": null,
   "metadata": {},
   "outputs": [],
   "source": [
    "4. What is an expression made up of? What do all expressions do? \n",
    "\n",
    "Answer: expression is made up of values and operators it does the evaluation to single value\n",
    "eg: 1+1 it has values and operator which will it evaluates to 2"
   ]
  },
  {
   "cell_type": "code",
   "execution_count": null,
   "metadata": {},
   "outputs": [],
   "source": [
    "5. This assignment statements, like spam = 10. What is the difference between an expression \n",
    "and a statement?\n",
    "\n",
    "Answer: the expression is which evalautes to a value where statement is like it does\n",
    "    some action or command.\n",
    "eg:  spam = 10\n",
    "    here 10 is just an expression which is already evaluated value \n",
    "    where statement like this assigns 10 value to the spam "
   ]
  },
  {
   "cell_type": "code",
   "execution_count": null,
   "metadata": {},
   "outputs": [],
   "source": [
    "6. After running the following code, what does the variable bacon contain? \n",
    "bacon = 22\n",
    "bacon + 1\n",
    "\n",
    "Answer: variable bacon contains 22"
   ]
  },
  {
   "cell_type": "code",
   "execution_count": null,
   "metadata": {},
   "outputs": [],
   "source": [
    "7. What should the values of the following two terms be?\n",
    "'spam' + 'spamspam'\n",
    "'spam' * 3 \n",
    "\n",
    "Answer: \n",
    "'spam'+ 'spamspam'\n",
    "'spam' * 3\n",
    "both gives spamspamspam"
   ]
  },
  {
   "cell_type": "code",
   "execution_count": null,
   "metadata": {},
   "outputs": [],
   "source": [
    "  8. Why is eggs a valid variable name while 100 is invalid?\n",
    "Answer:\n",
    "    variable cannot be integer so 100 is invalid"
   ]
  },
  {
   "cell_type": "code",
   "execution_count": null,
   "metadata": {},
   "outputs": [],
   "source": [
    "9. What three functions can be used to get the integer,\n",
    "floating-point number, or string version of a value? \n",
    "\n",
    "Answer:\n",
    "int(type)\n",
    "float(type)\n",
    "str(type)"
   ]
  },
  {
   "cell_type": "code",
   "execution_count": null,
   "metadata": {},
   "outputs": [],
   "source": [
    "10. Why does this expression cause an error? How can you fix it? \n",
    "'I have eaten ' + 99 + ' burritos.'\n",
    "\n",
    "Answer: because 99 is int value where others are strings we cannot add different data types \n",
    "     we can fix it by adding quotes\n",
    "        'I have eaten ' + '99' + ' burritos.'\n"
   ]
  }
 ],
 "metadata": {
  "kernelspec": {
   "display_name": "Python 3",
   "language": "python",
   "name": "python3"
  },
  "language_info": {
   "codemirror_mode": {
    "name": "ipython",
    "version": 3
   },
   "file_extension": ".py",
   "mimetype": "text/x-python",
   "name": "python",
   "nbconvert_exporter": "python",
   "pygments_lexer": "ipython3",
   "version": "3.8.5"
  }
 },
 "nbformat": 4,
 "nbformat_minor": 4
}
