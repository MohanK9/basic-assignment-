{
 "cells": [
  {
   "cell_type": "code",
   "execution_count": null,
   "metadata": {},
   "outputs": [],
   "source": [
    "1.What are the two values of the Boolean data type? How do you write them? \n",
    "Answer:\n",
    "the two values are True and False \n",
    "bool()"
   ]
  },
  {
   "cell_type": "code",
   "execution_count": null,
   "metadata": {},
   "outputs": [],
   "source": [
    "2. What are the three different types of Boolean operators?\n",
    "Answer:\n",
    "NOT,AND, OR are three different types of boolean operators"
   ]
  },
  {
   "cell_type": "code",
   "execution_count": null,
   "metadata": {},
   "outputs": [],
   "source": [
    " 3. Make a list of each Boolean operator's truth tables \n",
    "    (i.e. every possible combination of Boolean values for the operator and what it evaluate ). \n",
    "    Answer:\n",
    "AND        NOT      NOR\n",
    "0 0 0       1 0     0 0 0\n",
    "0 1 0       0 1     0 1 1\n",
    "1 0 0               1 0 1\n",
    "1 1 1               1 1 1\n",
    "here \n",
    "True value is 1 and False is 0"
   ]
  },
  {
   "cell_type": "code",
   "execution_count": 9,
   "metadata": {},
   "outputs": [],
   "source": [
    "4. What are the values of the following expressions?\n",
    "(5 > 4) and (3 == 5)\n",
    "not (5 > 4)\n",
    "(5 > 4) or (3 == 5)\n",
    "not ((5> 4) or (3 == 5))\n",
    "(True and True) and (True == False)\n",
    "(not False) or (not True)\n",
    "\n",
    "Answer:\n",
    "(5 > 4) and (3 == 5)                ---False\n",
    "not(5>4)                            ---False\n",
    "(5 > 4) or (3 == 5)                 ---True\n",
    "not ((5 > 4) or (3 == 5))           ---False\n",
    "(True and True) and (True == False) ---False\n",
    "(not False) or (not True)           ---False"
   ]
  },
  {
   "cell_type": "code",
   "execution_count": null,
   "metadata": {},
   "outputs": [],
   "source": [
    " 5. What are the six comparison operators?\n",
    "Answer:\n",
    "== ; != ; >=; <= ;<;>"
   ]
  },
  {
   "cell_type": "code",
   "execution_count": null,
   "metadata": {},
   "outputs": [],
   "source": [
    "6. How do you tell the difference between the equal to and assignment operators?\n",
    "Describe a condition and when you would use one.\n",
    "\n",
    "Answer:\n",
    "equal to is ==\n",
    "assigned operator is =\n",
    "a = 10 # where 10 is assigned to variable a\n",
    "a == 10 # here it checks whether the value of a is equal to 10 or not"
   ]
  },
  {
   "cell_type": "code",
   "execution_count": null,
   "metadata": {},
   "outputs": [],
   "source": [
    "7. Identify the three blocks in \n",
    "this code: spam = 0 if spam == 10: print('eggs') if spam > 5: print('bacon') else: print('ham') print('spam') print('spam') \n",
    "\n",
    "Answer:\n",
    "spam = 0\n",
    "# block 1\n",
    "if spam == 10:\n",
    "print('eggs')\n",
    "#block 2\n",
    "if spam > 5:\n",
    "print('bacon')\n",
    "#block 3\n",
    "else:\n",
    "print('ham')\n"
   ]
  },
  {
   "cell_type": "code",
   "execution_count": null,
   "metadata": {},
   "outputs": [],
   "source": [
    "8. Write code that prints Hello if 1 is stored in spam, prints Howdy if 2 is stored in spam,\n",
    "and prints Greetings! if anything else is stored in spam.\n",
    "\n",
    "Answer:\n",
    "if spam == 1:\n",
    "    print('hello')\n",
    "elif spam == 2:\n",
    "    print('howdy')\n",
    "else :\n",
    "    print('Greetings!')\n",
    "    "
   ]
  },
  {
   "cell_type": "code",
   "execution_count": null,
   "metadata": {},
   "outputs": [],
   "source": [
    "9.If your programme is stuck in an endless loop, what keys you’ll press? \n",
    "\n",
    "Answer:\n",
    "press CTRL + C from command line"
   ]
  },
  {
   "cell_type": "code",
   "execution_count": null,
   "metadata": {},
   "outputs": [],
   "source": [
    "10. How can you tell the difference between break and continue?\n",
    "\n",
    "Answer:\n",
    "break is used to terminate the loop \n",
    "while continue is used to skip the next line of code"
   ]
  },
  {
   "cell_type": "code",
   "execution_count": null,
   "metadata": {},
   "outputs": [],
   "source": [
    " 11. In a for loop, what is the difference between range(10), range(0, 10), and range(0, 10, 1)?\n",
    "    \n",
    "Answer:\n",
    "range(10), range(0,10),range(0,10,1) all does the same in for loop which ranges from 0 to 9\n",
    "range (0,10,1) here the index value will get increment of value +1\n",
    "and range (0,10) by default the increment is +1"
   ]
  },
  {
   "cell_type": "code",
   "execution_count": 19,
   "metadata": {},
   "outputs": [],
   "source": [
    "12. Write a short program that prints the numbers 1 to 10 using a for loop. Then write an equivalent program that prints the numbers 1 to 10 using a while loop. \n",
    "\n",
    "Answer:\n",
    "#for loop:    \n",
    "for i in range(1,11):\n",
    "    print(i)"
   ]
  },
  {
   "cell_type": "code",
   "execution_count": null,
   "metadata": {},
   "outputs": [],
   "source": [
    "#while loop:\n",
    "i =1\n",
    "while i < 11:\n",
    "    print(i)\n",
    "    i = i+1\n",
    "   "
   ]
  },
  {
   "cell_type": "markdown",
   "metadata": {},
   "source": [
    " 13. If you had a function named bacon() inside a module named spam, how would you call it after importing spam?\n",
    " \n",
    "Answer:\n",
    "spam.bacon()"
   ]
  },
  {
   "cell_type": "code",
   "execution_count": null,
   "metadata": {},
   "outputs": [],
   "source": []
  }
 ],
 "metadata": {
  "kernelspec": {
   "display_name": "Python 3",
   "language": "python",
   "name": "python3"
  },
  "language_info": {
   "codemirror_mode": {
    "name": "ipython",
    "version": 3
   },
   "file_extension": ".py",
   "mimetype": "text/x-python",
   "name": "python",
   "nbconvert_exporter": "python",
   "pygments_lexer": "ipython3",
   "version": "3.8.5"
  }
 },
 "nbformat": 4,
 "nbformat_minor": 4
}
